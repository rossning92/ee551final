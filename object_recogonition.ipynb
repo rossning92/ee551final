{
 "cells": [
  {
   "cell_type": "code",
   "execution_count": 1,
   "metadata": {
    "scrolled": false
   },
   "outputs": [],
   "source": [
    "# Utility definitions\n",
    "import subprocess\n",
    "import os\n",
    "from IPython.core.magic import (register_line_magic, register_cell_magic,\n",
    "                                register_line_cell_magic)\n",
    "import re\n",
    "import shutil\n",
    "import os\n",
    "\n",
    "bashPath = os.path.join(os.environ['PROGRAMFILES'], 'Git\\\\bin\\\\sh.exe')\n",
    "if not os.path.exists(bashPath):\n",
    "    raise Exception('Cannot find \"{}\".'.format(bashPath))\n",
    "\n",
    "    \n",
    "def runBash(cmd):\n",
    "    subprocess.Popen([bashPath, \n",
    "                      '--login',\n",
    "                      '-i', \n",
    "                      '-c', \n",
    "                      '{} ; read -n 1 -s -r -p \"Press any key to exit...\"'.format(cmd)],\n",
    "                     creationflags=subprocess.CREATE_NEW_CONSOLE)\n",
    "    \n",
    "    \n",
    "@register_cell_magic\n",
    "def bash(line, cell=None):\n",
    "    cmd = cell\n",
    "    subprocess.Popen([bashPath, '--login','-i', '-c', '{} ; read -n 1 -s -r -p \"Press any key to exit...\"'.format(cmd)], \n",
    "                     creationflags=subprocess.CREATE_NEW_CONSOLE)\n",
    "    \n",
    "    \n",
    "def replaceInFile(srcFile, destFile, replace):\n",
    "    with open(srcFile, 'r') as f:\n",
    "        text = f.read()\n",
    "    \n",
    "    for k, v in replace.items():\n",
    "        patt = k.replace('.', '\\\\.')\n",
    "        patt = re.compile(patt)\n",
    "        match = patt.search(text)\n",
    "        if match is None:\n",
    "            raise Exception(\"Can't find '{0}' in config file.\".format(k))\n",
    "\n",
    "        text = re.sub(patt, v, text)\n",
    "        print(match.group(0), \"=>\", v)\n",
    "\n",
    "    with open(destFile, 'w') as f:\n",
    "        f.write(text)"
   ]
  },
  {
   "cell_type": "code",
   "execution_count": 16,
   "metadata": {
    "collapsed": true
   },
   "outputs": [],
   "source": [
    "%%bash\n",
    "IMAGE_SIZE=224\n",
    "ARCHITECTURE=\"mobilenet_0.50_${IMAGE_SIZE}\"\n",
    "\n",
    "# 'Bottleneck': last hidden layer\n",
    "# The script speeds things up to cache these bottleneck values on disk\n",
    "#\n",
    "python tensorflow/tensorflow/examples/image_retraining/retrain.py \\\n",
    "    --bottleneck_dir=tf_files/bottlenecks \\\n",
    "    --how_many_training_steps=500 \\\n",
    "    --model_dir=tf_files/models/ \\\n",
    "    --summaries_dir=tf_files/training_summaries/\"${ARCHITECTURE}\" \\\n",
    "    --output_graph=tf_files/retrained_graph.pb \\\n",
    "    --output_labels=tf_files/retrained_labels.txt \\\n",
    "    --architecture=\"${ARCHITECTURE}\" \\\n",
    "    --image_dir=tf_files/Marcel-Train"
   ]
  },
  {
   "cell_type": "code",
   "execution_count": 23,
   "metadata": {
    "collapsed": true
   },
   "outputs": [],
   "source": [
    "%%bash\n",
    "python tensorflow-for-poets-2/scripts/label_image.py \\\n",
    "    --graph=tf_files/retrained_graph.pb  \\\n",
    "    --image=C2.jpg"
   ]
  }
 ],
 "metadata": {
  "kernelspec": {
   "display_name": "Python 3",
   "language": "python",
   "name": "python3"
  },
  "language_info": {
   "codemirror_mode": {
    "name": "ipython",
    "version": 3
   },
   "file_extension": ".py",
   "mimetype": "text/x-python",
   "name": "python",
   "nbconvert_exporter": "python",
   "pygments_lexer": "ipython3",
   "version": "3.6.2"
  }
 },
 "nbformat": 4,
 "nbformat_minor": 2
}
