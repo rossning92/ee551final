{
 "cells": [
  {
   "cell_type": "code",
   "execution_count": 1,
   "metadata": {
    "scrolled": false
   },
   "outputs": [
    {
     "name": "stdout",
     "output_type": "stream",
     "text": [
      "env: PROJECT_NAME=face\n"
     ]
    }
   ],
   "source": [
    "#PROJECT_NAME = 'ssd_mobilenet_v1_coco'\n",
    "PROJECT_NAME = 'face'\n",
    "\n",
    "CONFIG_FILE = 'ssd_mobilenet_v1_coco.config'\n",
    "FINE_TUNE_CKPT = 'ssd_mobilenet_v1_coco_2017_11_17/model.ckpt'\n",
    "NUM_CLASSES = 1\n",
    "\n",
    "\n",
    "#CONFIG_FILE = 'ssd_inception_v2_coco.config'\n",
    "#PROJECT_NAME = 'ssd_inception_v2_hand'\n",
    "#FINE_TUNE_CKPT = 'ssd_inception_v2_coco_2017_11_17/model.ckpt'\n",
    "\n",
    "\n",
    "%env PROJECT_NAME=$PROJECT_NAME\n",
    "\n",
    "\n",
    "# Utility definitions\n",
    "import subprocess\n",
    "import os\n",
    "from IPython.core.magic import (register_line_magic, register_cell_magic,\n",
    "                                register_line_cell_magic)\n",
    "import re\n",
    "import shutil\n",
    "import os\n",
    "\n",
    "bashPath = os.path.join(os.environ['PROGRAMFILES'], 'Git\\\\bin\\\\sh.exe')\n",
    "if not os.path.exists(bashPath):\n",
    "    raise Exception('Cannot find \"{}\".'.format(bashPath))\n",
    "\n",
    "    \n",
    "def runBash(cmd):\n",
    "    subprocess.Popen([bashPath, \n",
    "                      '--login',\n",
    "                      '-i', \n",
    "                      '-c', \n",
    "                      '{} ; read -n 1 -s -r -p \"Press any key to exit...\"'.format(cmd)],\n",
    "                     creationflags=subprocess.CREATE_NEW_CONSOLE)\n",
    "    \n",
    "    \n",
    "@register_cell_magic\n",
    "def bash(line, cell=None):\n",
    "    cmd = cell\n",
    "    subprocess.Popen([bashPath, '--login','-i', '-c', '{} ; read -n 1 -s -r -p \"Press any key to exit...\"'.format(cmd)], \n",
    "                     creationflags=subprocess.CREATE_NEW_CONSOLE)\n",
    "    \n",
    "    \n",
    "def replaceInFile(srcFile, destFile, replace):\n",
    "    with open(srcFile, 'r') as f:\n",
    "        text = f.read()\n",
    "    \n",
    "    for k, v in replace.items():\n",
    "        patt = k.replace('.', '\\\\.')\n",
    "        patt = re.compile(patt)\n",
    "        match = patt.search(text)\n",
    "        if match is None:\n",
    "            raise Exception(\"Can't find '{0}' in config file.\".format(k))\n",
    "\n",
    "        text = re.sub(patt, v, text)\n",
    "        print(match.group(0), \"=>\", v)\n",
    "\n",
    "    with open(destFile, 'w') as f:\n",
    "        f.write(text)"
   ]
  },
  {
   "cell_type": "code",
   "execution_count": 9,
   "metadata": {},
   "outputs": [
    {
     "name": "stdout",
     "output_type": "stream",
     "text": [
      "num_classes: 90 => num_classes: 1\n",
      "PATH_TO_BE_CONFIGURED/model.ckpt => ../../ssd_mobilenet_v1_coco_2017_11_17/model.ckpt\n",
      "PATH_TO_BE_CONFIGURED/mscoco_train.record => data/train.record\n",
      "PATH_TO_BE_CONFIGURED/mscoco_label_map.pbtxt => data/label_map.pbtxt\n",
      "PATH_TO_BE_CONFIGURED/mscoco_val.record => data/val.record\n"
     ]
    }
   ],
   "source": [
    "projectDir = 'projects' + '/' + PROJECT_NAME\n",
    "if not os.path.exists(projectDir):  # Create project folder\n",
    "    os.makedirs(projectDir)\n",
    "    \n",
    "replace = {\n",
    "    'num_classes: \\\\d+': 'num_classes: {}'.format(NUM_CLASSES),\n",
    "    'PATH_TO_BE_CONFIGURED/model.ckpt': \"../../\" + FINE_TUNE_CKPT,\n",
    "    'PATH_TO_BE_CONFIGURED/mscoco_train.record': 'data/train.record',\n",
    "    'PATH_TO_BE_CONFIGURED/mscoco_val.record': 'data/val.record',\n",
    "    'PATH_TO_BE_CONFIGURED/mscoco_label_map.pbtxt': 'data/label_map.pbtxt'\n",
    "}\n",
    "\n",
    "replaceInFile('models/research/object_detection/samples/configs/' + CONFIG_FILE,\n",
    "              'projects/{}/{}.config'.format(PROJECT_NAME, PROJECT_NAME),\n",
    "              replace)"
   ]
  },
  {
   "cell_type": "code",
   "execution_count": 5,
   "metadata": {
    "collapsed": true
   },
   "outputs": [],
   "source": [
    "%%bash\n",
    "# Protobuf Compilation\n",
    "\n",
    "# From tensorflow/models/research/\n",
    "cd models/research\n",
    "\n",
    "protoc object_detection/protos/*.proto --python_out=."
   ]
  },
  {
   "cell_type": "code",
   "execution_count": 22,
   "metadata": {
    "collapsed": true
   },
   "outputs": [],
   "source": [
    "%%bash\n",
    "# Train\n",
    "export PYTHONPATH=`pwd`/models/research/:`pwd`/models/research/slim:`pwd`/models/research/object_detection\n",
    "\n",
    "# From project folder\n",
    "cd projects/${PROJECT_NAME}\n",
    "\n",
    "python ../../models/research/object_detection/train.py \\\n",
    "    --logtostderr \\\n",
    "    --pipeline_config_path=${PROJECT_NAME}.config \\\n",
    "    --train_dir=train"
   ]
  },
  {
   "cell_type": "code",
   "execution_count": 84,
   "metadata": {
    "collapsed": true
   },
   "outputs": [],
   "source": [
    "%%bash\n",
    "# Export\n",
    "export PYTHONPATH=`pwd`/models/research/:`pwd`/models/research/slim:`pwd`/models/research/object_detection\n",
    "\n",
    "cd projects/${PROJECT_NAME}\n",
    "\n",
    "rm -rf inference_graph\n",
    "\n",
    "LAST_CKPT=`ls -A1r train/model* | head -n 1 | cut -d '.' -f 1-2`\n",
    "echo Using: ${LAST_CKPT}\n",
    "\n",
    "python ../../models/research/object_detection/export_inference_graph.py \\\n",
    "     --input_type image_tensor \\\n",
    "     --trained_checkpoint_prefix ${LAST_CKPT} \\\n",
    "     --pipeline_config_path ${PROJECT_NAME}.config \\\n",
    "     --output_directory inference_graph"
   ]
  },
  {
   "cell_type": "code",
   "execution_count": 2,
   "metadata": {
    "collapsed": true
   },
   "outputs": [],
   "source": [
    "%%bash\n",
    "# Real-time detection using camera\n",
    "export PYTHONPATH=`pwd`/models/research/:`pwd`/models/research/slim:`pwd`/models/research/object_detection\n",
    "\n",
    "cd projects/${PROJECT_NAME}\n",
    "\n",
    "python ../../realtime.py"
   ]
  },
  {
   "cell_type": "code",
   "execution_count": 4,
   "metadata": {
    "collapsed": true
   },
   "outputs": [],
   "source": [
    "%%bash\n",
    "# Evaluation\n",
    "export PYTHONPATH=`pwd`/models/research/:`pwd`/models/research/slim:`pwd`/models/research/object_detection\n",
    "\n",
    "cd projects/${PROJECT_NAME}\n",
    "\n",
    "CUDA_VISIBLE_DEVICES=-1 \\\n",
    "python ../../models/research/object_detection/eval.py \\\n",
    "    --logtostderr \\\n",
    "    --pipeline_config_path=${PROJECT_NAME}.config \\\n",
    "    --checkpoint_dir=train \\\n",
    "    --eval_dir=eval"
   ]
  },
  {
   "cell_type": "code",
   "execution_count": 24,
   "metadata": {
    "collapsed": true
   },
   "outputs": [],
   "source": [
    "%%bash\n",
    "# Tensorboard\n",
    "cd projects/${PROJECT_NAME}\n",
    "tensorboard --logdir=."
   ]
  },
  {
   "cell_type": "markdown",
   "metadata": {},
   "source": [
    "# Cloud Training"
   ]
  },
  {
   "cell_type": "code",
   "execution_count": 98,
   "metadata": {
    "scrolled": false
   },
   "outputs": [
    {
     "name": "stdout",
     "output_type": "stream",
     "text": [
      "env: YOUR_GCS_BUCKET=ross_bucket\n",
      "batch_size: 24 => batch_size: 18\n",
      "num_classes: 37 => num_classes: 1\n",
      "PATH_TO_BE_CONFIGURED/model.ckpt => gs://ross_bucket/data/model.ckpt\n",
      "PATH_TO_BE_CONFIGURED/pet_train.record => gs://ross_bucket/data/train.record\n",
      "PATH_TO_BE_CONFIGURED/pet_val.record => gs://ross_bucket/data/val.record\n",
      "PATH_TO_BE_CONFIGURED/pet_label_map.pbtxt => gs://ross_bucket/data/label_map.pbtxt\n"
     ]
    }
   ],
   "source": [
    "# export YOUR_GCS_BUCKET=\n",
    "YOUR_GCS_BUCKET = 'ross_bucket'\n",
    "%env YOUR_GCS_BUCKET=ross_bucket\n",
    "\n",
    "#SAMPLE_CONFIG_FILE = '../hands-detection/models/object_detection/samples/configs/faster_rcnn_resnet101_pets.config'\n",
    "SAMPLE_CONFIG_FILE = '../hands-detection/models/object_detection/samples/configs/ssd_mobilenet_v1_pets.config'\n",
    "\n",
    "\n",
    "replace = {\n",
    "    'batch_size: \\\\d+': 'batch_size: 18',\n",
    "    'num_classes: \\\\d+': f'num_classes: {NUM_CLASSES}',\n",
    "    'PATH_TO_BE_CONFIGURED/model.ckpt': f'gs://{YOUR_GCS_BUCKET}/data/model.ckpt',\n",
    "    'PATH_TO_BE_CONFIGURED/[a-zA-Z]+_train.record': f'gs://{YOUR_GCS_BUCKET}/data/train.record',\n",
    "    'PATH_TO_BE_CONFIGURED/[a-zA-Z]+_val.record': f'gs://{YOUR_GCS_BUCKET}/data/val.record',\n",
    "    'PATH_TO_BE_CONFIGURED/[a-zA-Z]+_label_map.pbtxt': f'gs://{YOUR_GCS_BUCKET}/data/label_map.pbtxt'\n",
    "}\n",
    "\n",
    "replaceInFile(SAMPLE_CONFIG_FILE,\n",
    "              f'projects/{PROJECT_NAME}/{PROJECT_NAME}.config',\n",
    "              replace)"
   ]
  },
  {
   "cell_type": "code",
   "execution_count": 99,
   "metadata": {
    "collapsed": true
   },
   "outputs": [],
   "source": [
    "# Copy files to bucket\n",
    "\n",
    "FINE_TUNE_CKPT = 'ssd_mobilenet_v1_coco_11_06_2017/model.ckpt'\n",
    "\n",
    "runBash(f\"\"\"\n",
    "gsutil.cmd cp projects/{PROJECT_NAME}/{PROJECT_NAME}.config gs://{YOUR_GCS_BUCKET}/data/{PROJECT_NAME}.config\n",
    "\n",
    "for file in projects/{PROJECT_NAME}/data/*; do\n",
    "    echo gsutil.cmd cp $file gs://{YOUR_GCS_BUCKET}/data/${{file##*/}}\n",
    "done\n",
    "\n",
    "for file in {FINE_TUNE_CKPT}.*; do\n",
    "    echo gsutil.cmd cp $file gs://{YOUR_GCS_BUCKET}/data/${{file##*/}}\n",
    "done\n",
    "\"\"\")"
   ]
  },
  {
   "cell_type": "code",
   "execution_count": 92,
   "metadata": {
    "collapsed": true
   },
   "outputs": [],
   "source": [
    "%%bash \n",
    "# Package the Tensorflow Object Detection code\n",
    "\n",
    "cd ../hands-detection/models/\n",
    "export PYTHONPATH=`pwd`:`pwd`/slim:`pwd`/object_detection\n",
    "\n",
    "protoc object_detection/protos/*.proto --python_out=.\n",
    "\n",
    "python setup.py sdist\n",
    "(cd slim && python setup.py sdist)"
   ]
  },
  {
   "cell_type": "code",
   "execution_count": 115,
   "metadata": {
    "collapsed": true
   },
   "outputs": [],
   "source": [
    "%%bash\n",
    "#Training on google cloud ML\n",
    "cd ../hands-detection/models/\n",
    "export PYTHONPATH=`pwd`:`pwd`/slim:`pwd`/object_detection\n",
    "export PATH='/c/Users/Ross/AppData/Local/Google/Cloud SDK/google-cloud-sdk/platform/bundledpython':$PATH\n",
    "\n",
    "gcloud ml-engine jobs submit training `whoami`_object_detection_`date +%s` \\\n",
    "    --job-dir=gs://${YOUR_GCS_BUCKET}/train \\\n",
    "    --packages dist/object_detection-0.1.tar.gz,slim/dist/slim-0.1.tar.gz \\\n",
    "    --module-name object_detection.train \\\n",
    "    --region us-central1 \\\n",
    "    --config object_detection/samples/cloud/cloud.yml \\\n",
    "    -- \\\n",
    "    --train_dir=gs://${YOUR_GCS_BUCKET}/train \\\n",
    "    --pipeline_config_path=gs://${YOUR_GCS_BUCKET}/data/hand.config"
   ]
  },
  {
   "cell_type": "code",
   "execution_count": 16,
   "metadata": {
    "collapsed": true
   },
   "outputs": [],
   "source": [
    "%%bash\n",
    "# Eval\n",
    "cd ../hands-detection/models/\n",
    "export PYTHONPATH=`pwd`:`pwd`/slim:`pwd`/object_detection\n",
    "export PATH='/c/Users/Ross/AppData/Local/Google/Cloud SDK/google-cloud-sdk/platform/bundledpython':$PATH\n",
    "\n",
    "gcloud ml-engine jobs submit training `whoami`_object_detection_eval_`date +%s` \\\n",
    "    --job-dir=gs://${YOUR_GCS_BUCKET}/train \\\n",
    "    --packages dist/object_detection-0.1.tar.gz,slim/dist/slim-0.1.tar.gz \\\n",
    "    --module-name object_detection.eval \\\n",
    "    --region us-central1 \\\n",
    "    --scale-tier BASIC_GPU \\\n",
    "    -- \\\n",
    "    --checkpoint_dir=gs://${YOUR_GCS_BUCKET}/train \\\n",
    "    --eval_dir=gs://${YOUR_GCS_BUCKET}/eval \\\n",
    "    --pipeline_config_path=gs://${YOUR_GCS_BUCKET}/data/hand.config"
   ]
  },
  {
   "cell_type": "code",
   "execution_count": 133,
   "metadata": {
    "collapsed": true
   },
   "outputs": [],
   "source": [
    "# Download last ckpt on google cloud ML\n",
    "runBash(f\"\"\"\n",
    "cd projects/{PROJECT_NAME}/\n",
    "\n",
    "LAST_CKPT=`gsutil.cmd ls gs://{YOUR_GCS_BUCKET}/train/model.ckpt* | tail -n 1 | cut -d '.' -f 1-2`\n",
    "gsutil.cmd cp ${{LAST_CKPT}}.* train/\n",
    "read\n",
    "\"\"\")"
   ]
  },
  {
   "cell_type": "code",
   "execution_count": 134,
   "metadata": {
    "collapsed": true
   },
   "outputs": [],
   "source": [
    "%%bash\n",
    "# Export to a Tensorflow graph proto (old)\n",
    "cd ../hands-detection/models/\n",
    "export PYTHONPATH=`pwd`:`pwd`/slim:`pwd`/object_detection\n",
    "\n",
    "cd ../../ObjectDetect/projects/${PROJECT_NAME}\n",
    "\n",
    "rm -rf inference_graph\n",
    "mkdir inference_graph\n",
    "\n",
    "LAST_CKPT=`ls -A1r train/model* | head -n 1 | cut -d '.' -f 1-2`\n",
    "echo Using ${LAST_CKPT} ...\n",
    "\n",
    "python ../../../hands-detection/models/object_detection/export_inference_graph.py \\\n",
    "    --input_type image_tensor \\\n",
    "    --pipeline_config_path ${PROJECT_NAME}.config \\\n",
    "    --checkpoint_path ${LAST_CKPT} \\\n",
    "    --inference_graph_path inference_graph/frozen_inference_graph.pb"
   ]
  },
  {
   "cell_type": "code",
   "execution_count": 138,
   "metadata": {
    "collapsed": true
   },
   "outputs": [],
   "source": [
    "%%bash\n",
    "cd ../hands-detection/models/\n",
    "export PYTHONPATH=`pwd`:`pwd`/slim:`pwd`/object_detection\n",
    "cd ../../ObjectDetect/projects/${PROJECT_NAME}\n",
    "\n",
    "python ../../realtime.py"
   ]
  }
 ],
 "metadata": {
  "kernelspec": {
   "display_name": "Python 3",
   "language": "python",
   "name": "python3"
  },
  "language_info": {
   "codemirror_mode": {
    "name": "ipython",
    "version": 3
   },
   "file_extension": ".py",
   "mimetype": "text/x-python",
   "name": "python",
   "nbconvert_exporter": "python",
   "pygments_lexer": "ipython3",
   "version": "3.6.2"
  }
 },
 "nbformat": 4,
 "nbformat_minor": 2
}
